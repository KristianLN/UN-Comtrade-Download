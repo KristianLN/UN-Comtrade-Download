{
 "cells": [
  {
   "cell_type": "markdown",
   "metadata": {},
   "source": [
    "# Documentation : ```download_trade_data```"
   ]
  },
  {
   "cell_type": "code",
   "execution_count": 1,
   "metadata": {
    "collapsed": true
   },
   "outputs": [],
   "source": [
    "import pandas as pd\n",
    "from time import sleep"
   ]
  },
  {
   "cell_type": "code",
   "execution_count": 2,
   "metadata": {
    "collapsed": false
   },
   "outputs": [],
   "source": [
    "from UN_Comtrade import download_trade_data"
   ]
  },
  {
   "cell_type": "code",
   "execution_count": 3,
   "metadata": {
    "collapsed": true
   },
   "outputs": [],
   "source": [
    "# help\n",
    "download_trade_data?"
   ]
  },
  {
   "cell_type": "code",
   "execution_count": 4,
   "metadata": {
    "collapsed": false
   },
   "outputs": [],
   "source": [
    "import os\n",
    "os.chdir('data')"
   ]
  },
  {
   "cell_type": "markdown",
   "metadata": {},
   "source": [
    "### New options"
   ]
  },
  {
   "cell_type": "code",
   "execution_count": 5,
   "metadata": {
    "collapsed": false
   },
   "outputs": [
    {
     "name": "stdout",
     "output_type": "stream",
     "text": [
      "https://comtrade.un.org/api/get?type=C&ps=2010,2011,2012,2013,2014&head=M&rg=2&r=276&px=HS&fmt=json&p=all&freq=A&max=50000&cc=total\n",
      "1150 records downloaded and saved as Germany_exports_2010-2014.csv.\n"
     ]
    }
   ],
   "source": [
    "# input for period: 'YYYY-YYYY'/ 'YYYYMM-YYYYMM' possible (depending of frequency)\n",
    "download_trade_data('Germany_exports_2010-2014.csv', period='2010-2014', frequency='A', reporter='Germany', \n",
    "                    partner='all', product='total', tradeflow='exports')"
   ]
  },
  {
   "cell_type": "code",
   "execution_count": 6,
   "metadata": {
    "collapsed": false
   },
   "outputs": [
    {
     "name": "stdout",
     "output_type": "stream",
     "text": [
      "https://comtrade.un.org/api/get?type=C&ps=1995,1996,1997,1998,1999&head=M&rg=2&r=276,842,251,124,826&px=HS&fmt=json&p=all&freq=A&max=50000&cc=total\n",
      "https://comtrade.un.org/api/get?type=C&ps=2000,2001,2002,2003,2004&head=M&rg=2&r=276,842,251,124,826&px=HS&fmt=json&p=all&freq=A&max=50000&cc=total\n",
      "https://comtrade.un.org/api/get?type=C&ps=1995,1996,1997,1998,1999&head=M&rg=2&r=156,704&px=HS&fmt=json&p=all&freq=A&max=50000&cc=total\n",
      "https://comtrade.un.org/api/get?type=C&ps=2000,2001,2002,2003,2004&head=M&rg=2&r=156,704&px=HS&fmt=json&p=all&freq=A&max=50000&cc=total\n",
      "13893 records downloaded and saved as some_countries_exports_1995-2004.csv.\n"
     ]
    }
   ],
   "source": [
    "# here both for period and reporter we have more than 5 parameters (more than API usage limit)\n",
    "# however, download_trade_data does several API calls and saves all results in one big csv file\n",
    "download_trade_data('some_countries_exports_1995-2004.csv', period='1995-2004', frequency='A', \n",
    "                    reporter=['Germany', 'USA', 'France', 'Canada', 'United Kingdom', 'China', 'Viet Nam'], \n",
    "                    partner='all', product='total', tradeflow='exports')"
   ]
  },
  {
   "cell_type": "code",
   "execution_count": 7,
   "metadata": {
    "collapsed": false
   },
   "outputs": [
    {
     "name": "stdout",
     "output_type": "stream",
     "text": [
      "https://comtrade.un.org/api/get?type=C&ps=2007,2010,2011,2012,2013&head=M&rg=2&r=276&px=HS&fmt=json&p=all&freq=A&max=50000&cc=total\n",
      "1151 records downloaded and saved as Germany_exports_2007_and_2010-2013.csv.\n"
     ]
    }
   ],
   "source": [
    "# even inputs like period=['YYYY', 'YYYY-YYYY'] are allowed\n",
    "download_trade_data('Germany_exports_2007_and_2010-2013.csv', period=[2007, '2010-2013'], frequency='A', reporter='Germany', \n",
    "                    partner='all', product='total', tradeflow='exports')"
   ]
  },
  {
   "cell_type": "markdown",
   "metadata": {},
   "source": [
    "Remember that instead of using inputs like ``period='1995-2015'`` you can still use ``'all'`` as input! Less API calls might be necessary and you can still select the time period 1995 - 2015 after downloading the data."
   ]
  },
  {
   "cell_type": "markdown",
   "metadata": {},
   "source": [
    "If you do not want the function to print any information, choose the option ``verbose=False``."
   ]
  },
  {
   "cell_type": "code",
   "execution_count": 8,
   "metadata": {
    "collapsed": false
   },
   "outputs": [
    {
     "ename": "ValueError",
     "evalue": "Only one of the parameters 'reporter', 'partner' and 'period' may use the special ALL value in a given API call.",
     "output_type": "error",
     "traceback": [
      "\u001b[1;31m---------------------------------------------------------------------------\u001b[0m",
      "\u001b[1;31mValueError\u001b[0m                                Traceback (most recent call last)",
      "\u001b[1;32m<ipython-input-8-a004b2ff7b0b>\u001b[0m in \u001b[0;36m<module>\u001b[1;34m()\u001b[0m\n\u001b[0;32m      1\u001b[0m \u001b[1;31m# function raises error when we expect that the API would return an error message\u001b[0m\u001b[1;33m\u001b[0m\u001b[1;33m\u001b[0m\u001b[0m\n\u001b[0;32m      2\u001b[0m download_trade_data('test.csv', period=2016, frequency='A', reporter='all', \n\u001b[1;32m----> 3\u001b[1;33m                     partner='all', product='total', tradeflow='exports')\n\u001b[0m",
      "\u001b[1;32mD:\\google_drive\\Hiwi-Lux\\UN-Comtrade-Download\\UN_Comtrade.py\u001b[0m in \u001b[0;36mdownload_trade_data\u001b[1;34m(filename, human_readable, verbose, period, frequency, reporter, partner, product, tradeflow)\u001b[0m\n\u001b[0;32m     60\u001b[0m \u001b[1;33m\u001b[0m\u001b[0m\n\u001b[0;32m     61\u001b[0m     \u001b[1;32mif\u001b[0m \u001b[0msum\u001b[0m\u001b[1;33m(\u001b[0m\u001b[1;34m'all'\u001b[0m \u001b[1;32min\u001b[0m \u001b[0minpt\u001b[0m \u001b[1;32mfor\u001b[0m \u001b[0minpt\u001b[0m \u001b[1;32min\u001b[0m \u001b[1;33m[\u001b[0m\u001b[0mreporter\u001b[0m\u001b[1;33m,\u001b[0m \u001b[0mpartner\u001b[0m\u001b[1;33m,\u001b[0m \u001b[0mperiod\u001b[0m\u001b[1;33m]\u001b[0m\u001b[1;33m)\u001b[0m \u001b[1;33m>\u001b[0m \u001b[1;36m1\u001b[0m\u001b[1;33m:\u001b[0m\u001b[1;33m\u001b[0m\u001b[0m\n\u001b[1;32m---> 62\u001b[1;33m         \u001b[1;32mraise\u001b[0m \u001b[0mValueError\u001b[0m\u001b[1;33m(\u001b[0m\u001b[1;34m\"Only one of the parameters 'reporter', 'partner' and 'period' may use the special ALL value in a given API call.\"\u001b[0m\u001b[1;33m)\u001b[0m\u001b[1;33m\u001b[0m\u001b[0m\n\u001b[0m\u001b[0;32m     63\u001b[0m \u001b[1;33m\u001b[0m\u001b[0m\n\u001b[0;32m     64\u001b[0m     \u001b[1;32mif\u001b[0m \u001b[0many\u001b[0m\u001b[1;33m(\u001b[0m\u001b[0mlen\u001b[0m\u001b[1;33m(\u001b[0m\u001b[0minpt\u001b[0m\u001b[1;33m)\u001b[0m \u001b[1;33m>\u001b[0m \u001b[1;36m5\u001b[0m \u001b[1;32mfor\u001b[0m \u001b[0minpt\u001b[0m \u001b[1;32min\u001b[0m \u001b[1;33m[\u001b[0m\u001b[0mreporter\u001b[0m\u001b[1;33m,\u001b[0m \u001b[0mpartner\u001b[0m\u001b[1;33m,\u001b[0m \u001b[0mperiod\u001b[0m\u001b[1;33m]\u001b[0m\u001b[1;33m)\u001b[0m \u001b[1;32mand\u001b[0m \u001b[0mhuman_readable\u001b[0m\u001b[1;33m:\u001b[0m\u001b[1;33m\u001b[0m\u001b[0m\n",
      "\u001b[1;31mValueError\u001b[0m: Only one of the parameters 'reporter', 'partner' and 'period' may use the special ALL value in a given API call."
     ]
    }
   ],
   "source": [
    "# function raises error when we expect that the API would return an error message\n",
    "download_trade_data('test.csv', period=2016, frequency='A', reporter='all', \n",
    "                    partner='all', product='total', tradeflow='exports')"
   ]
  },
  {
   "cell_type": "markdown",
   "metadata": {},
   "source": [
    "### Some examples"
   ]
  },
  {
   "cell_type": "code",
   "execution_count": null,
   "metadata": {
    "collapsed": false
   },
   "outputs": [],
   "source": [
    "# simple use case\n",
    "download_trade_data('USA_exports_2016.csv', period=2016, frequency='A', reporter='USA', \n",
    "                    partner='all', product='total', tradeflow='exports')"
   ]
  },
  {
   "cell_type": "code",
   "execution_count": null,
   "metadata": {
    "collapsed": false
   },
   "outputs": [],
   "source": [
    "# equivalent inputs, closer to the API parameter inputs\n",
    "download_trade_data('USA_exports_2016.csv', period=2016, frequency='A', reporter=842, \n",
    "                    partner='all', product='total', tradeflow=2)"
   ]
  },
  {
   "cell_type": "code",
   "execution_count": null,
   "metadata": {
    "collapsed": false
   },
   "outputs": [],
   "source": [
    "# If the country name does not exactly match with an entry in the file with offical names, \n",
    "# the function shows you similar country names:\n",
    "download_trade_data('Bolivia_exports_2015.csv', period=2015, frequency='A', reporter='Bolivia', \n",
    "                    partner='all', product='total', tradeflow='exports')"
   ]
  },
  {
   "cell_type": "code",
   "execution_count": null,
   "metadata": {
    "collapsed": false
   },
   "outputs": [],
   "source": [
    "# Instead of single parameter values, you might use lists as input for period, reporter, partner, product and tradeflow, e.g.:\n",
    "download_trade_data('europe_exports_2015_1st_quartal.csv', period=['201501', '201502', '201503'], frequency='M', \n",
    "                    reporter=['Germany', 'France', 'Italy', 'Spain', 'United Kingdom'], \n",
    "                    partner='all', product='total', tradeflow='exports')"
   ]
  },
  {
   "cell_type": "code",
   "execution_count": null,
   "metadata": {
    "collapsed": false
   },
   "outputs": [],
   "source": [
    "# The non-default mode with human-readable headings:\n",
    "download_trade_data('USA_exports_2016_human_readable.csv', human_readable=True,\n",
    "                    period=2016, frequency='A', reporter='USA', \n",
    "                    partner='all', product='total', tradeflow='exports')"
   ]
  },
  {
   "cell_type": "code",
   "execution_count": null,
   "metadata": {
    "collapsed": false
   },
   "outputs": [],
   "source": [
    "# The human_readable=True mode is not recommended for several API calls:\n",
    "download_trade_data('USA_exports_2016_human_readable_2.csv', human_readable=True,\n",
    "                    period='201601-201612', frequency='M', reporter='USA', \n",
    "                    partner='all', product='total', tradeflow='exports')"
   ]
  },
  {
   "cell_type": "markdown",
   "metadata": {},
   "source": [
    "### Automizing downloads of several files"
   ]
  },
  {
   "cell_type": "code",
   "execution_count": null,
   "metadata": {
    "collapsed": false
   },
   "outputs": [],
   "source": [
    "df = pd.read_csv('reporterAreas.csv', encoding='latin_1', index_col=0)\n",
    "\n",
    "for code in df.index[:10]:\n",
    "    download_trade_data('country_no_{}_exports_last_5_years.csv'.format(code), \n",
    "                        period='recent', frequency='A', reporter=code, \n",
    "                        partner='all', product='total', tradeflow='exports')\n",
    "    print('')\n",
    "    sleep(1) # 1 second rate limit"
   ]
  }
 ],
 "metadata": {
  "anaconda-cloud": {},
  "kernelspec": {
   "display_name": "Python [Root]",
   "language": "python",
   "name": "Python [Root]"
  },
  "language_info": {
   "codemirror_mode": {
    "name": "ipython",
    "version": 3
   },
   "file_extension": ".py",
   "mimetype": "text/x-python",
   "name": "python",
   "nbconvert_exporter": "python",
   "pygments_lexer": "ipython3",
   "version": "3.5.2"
  }
 },
 "nbformat": 4,
 "nbformat_minor": 0
}
