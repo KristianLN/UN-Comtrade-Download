{
 "cells": [
  {
   "cell_type": "markdown",
   "metadata": {},
   "source": [
    "# Documentation : ```download_trade_data```"
   ]
  },
  {
   "cell_type": "code",
   "execution_count": 1,
   "metadata": {
    "collapsed": true
   },
   "outputs": [],
   "source": [
    "import pandas as pd\n",
    "from time import sleep"
   ]
  },
  {
   "cell_type": "code",
   "execution_count": 2,
   "metadata": {
    "collapsed": false
   },
   "outputs": [],
   "source": [
    "from UN_Comtrade import download_trade_data"
   ]
  },
  {
   "cell_type": "code",
   "execution_count": 3,
   "metadata": {
    "collapsed": true
   },
   "outputs": [],
   "source": [
    "# help\n",
    "download_trade_data?"
   ]
  },
  {
   "cell_type": "code",
   "execution_count": 3,
   "metadata": {
    "collapsed": false
   },
   "outputs": [],
   "source": [
    "import os\n",
    "os.chdir('data')"
   ]
  },
  {
   "cell_type": "markdown",
   "metadata": {},
   "source": [
    "### Some examples"
   ]
  },
  {
   "cell_type": "code",
   "execution_count": 4,
   "metadata": {
    "collapsed": false
   },
   "outputs": [
    {
     "name": "stdout",
     "output_type": "stream",
     "text": [
      "226 records downloaded and saved as USA_exports_2016.csv.\n"
     ]
    }
   ],
   "source": [
    "# simple use case\n",
    "download_trade_data('USA_exports_2016.csv', period=2016, frequency='A', reporter='USA', \n",
    "                    partner='all', product='total', tradeflow='exports')"
   ]
  },
  {
   "cell_type": "code",
   "execution_count": 5,
   "metadata": {
    "collapsed": false
   },
   "outputs": [
    {
     "name": "stdout",
     "output_type": "stream",
     "text": [
      "226 records downloaded and saved as USA_exports_2016.csv.\n"
     ]
    }
   ],
   "source": [
    "# equivalent inputs, closer to the API parameter inputs\n",
    "download_trade_data('USA_exports_2016.csv', period=2016, frequency='A', reporter=842, \n",
    "                    partner='all', product='total', tradeflow=2)"
   ]
  },
  {
   "cell_type": "code",
   "execution_count": 6,
   "metadata": {
    "collapsed": false
   },
   "outputs": [
    {
     "name": "stdout",
     "output_type": "stream",
     "text": [
      "There is no country in the json-file with the exact name \"Bolivia\". The following countries contain the word \"Bolivia\". If you think that one of the following countries is the one that you are looking for, press \"y\".\n",
      "68 Bolivia (Plurinational State of) [y?] y\n",
      "91 records downloaded and saved as Bolivia_exports_2015.csv.\n"
     ]
    }
   ],
   "source": [
    "# If the country name does not exactly match with an entry in the file with offical names, \n",
    "# the function shows you similar country names:\n",
    "download_trade_data('Bolivia_exports_2015.csv', period=2015, frequency='A', reporter='Bolivia', \n",
    "                    partner='all', product='total', tradeflow='exports')"
   ]
  },
  {
   "cell_type": "code",
   "execution_count": 7,
   "metadata": {
    "collapsed": false
   },
   "outputs": [
    {
     "name": "stdout",
     "output_type": "stream",
     "text": [
      "2199 records downloaded and saved as europe_exports_2015_1st_quartal.csv.\n"
     ]
    }
   ],
   "source": [
    "# Instead of single parameter values, you might use lists as input for period, reporter, partner, product and tradeflow, e.g.:\n",
    "download_trade_data('europe_exports_2015_1st_quartal.csv', period=['201501-201512'], frequency='M', \n",
    "                    reporter=['Germany', 'France', 'Italy', 'Spain', 'United Kingdom'], \n",
    "                    partner='all', product='total', tradeflow='exports')"
   ]
  },
  {
   "cell_type": "code",
   "execution_count": 9,
   "metadata": {
    "collapsed": false
   },
   "outputs": [
    {
     "ename": "ValueError",
     "evalue": "Only one of the parameters 'reporter', 'partner' and 'period' may use the special ALL value in a given API call.",
     "output_type": "error",
     "traceback": [
      "\u001b[1;31m---------------------------------------------------------------------------\u001b[0m",
      "\u001b[1;31mValueError\u001b[0m                                Traceback (most recent call last)",
      "\u001b[1;32m<ipython-input-9-854d8a471887>\u001b[0m in \u001b[0;36m<module>\u001b[1;34m()\u001b[0m\n\u001b[0;32m      2\u001b[0m \u001b[1;31m# The disadvantage is that the headings are not human-readable.\u001b[0m\u001b[1;33m\u001b[0m\u001b[1;33m\u001b[0m\u001b[0m\n\u001b[0;32m      3\u001b[0m download_trade_data('test.csv', period=2016, frequency='A', reporter='all', \n\u001b[1;32m----> 4\u001b[1;33m                     partner='all', product='total', tradeflow='exports')\n\u001b[0m",
      "\u001b[1;32mD:\\google_drive\\Hiwi-Lux\\UN-Comtrade-Download\\UN_Comtrade.py\u001b[0m in \u001b[0;36mdownload_trade_data\u001b[1;34m(filename, human_readable, verbose, period, frequency, reporter, partner, product, tradeflow)\u001b[0m\n\u001b[0;32m     57\u001b[0m \u001b[1;33m\u001b[0m\u001b[0m\n\u001b[0;32m     58\u001b[0m     \u001b[1;32mif\u001b[0m \u001b[0msum\u001b[0m\u001b[1;33m(\u001b[0m\u001b[1;34m'all'\u001b[0m \u001b[1;32min\u001b[0m \u001b[0minpt\u001b[0m \u001b[1;32mfor\u001b[0m \u001b[0minpt\u001b[0m \u001b[1;32min\u001b[0m \u001b[1;33m[\u001b[0m\u001b[0mreporter\u001b[0m\u001b[1;33m,\u001b[0m \u001b[0mpartner\u001b[0m\u001b[1;33m,\u001b[0m \u001b[0mperiod\u001b[0m\u001b[1;33m]\u001b[0m\u001b[1;33m)\u001b[0m \u001b[1;33m>\u001b[0m \u001b[1;36m1\u001b[0m\u001b[1;33m:\u001b[0m\u001b[1;33m\u001b[0m\u001b[0m\n\u001b[1;32m---> 59\u001b[1;33m         \u001b[1;32mraise\u001b[0m \u001b[0mValueError\u001b[0m\u001b[1;33m(\u001b[0m\u001b[1;34m\"Only one of the parameters 'reporter', 'partner' and 'period' may use the special ALL value in a given API call.\"\u001b[0m\u001b[1;33m)\u001b[0m\u001b[1;33m\u001b[0m\u001b[0m\n\u001b[0m\u001b[0;32m     60\u001b[0m \u001b[1;33m\u001b[0m\u001b[0m\n\u001b[0;32m     61\u001b[0m     \u001b[1;32mif\u001b[0m \u001b[0many\u001b[0m\u001b[1;33m(\u001b[0m\u001b[0mlen\u001b[0m\u001b[1;33m(\u001b[0m\u001b[0minpt\u001b[0m\u001b[1;33m)\u001b[0m \u001b[1;33m>\u001b[0m \u001b[1;36m5\u001b[0m \u001b[1;32mfor\u001b[0m \u001b[0minpt\u001b[0m \u001b[1;32min\u001b[0m \u001b[1;33m[\u001b[0m\u001b[0mreporter\u001b[0m\u001b[1;33m,\u001b[0m \u001b[0mpartner\u001b[0m\u001b[1;33m,\u001b[0m \u001b[0mperiod\u001b[0m\u001b[1;33m]\u001b[0m\u001b[1;33m)\u001b[0m\u001b[1;33m:\u001b[0m\u001b[1;33m\u001b[0m\u001b[0m\n",
      "\u001b[1;31mValueError\u001b[0m: Only one of the parameters 'reporter', 'partner' and 'period' may use the special ALL value in a given API call."
     ]
    }
   ],
   "source": [
    "# The advantage of the default mode is that we can directly recognize empty datasets and receive error messages from the API. \n",
    "# The disadvantage is that the headings are not human-readable.\n",
    "download_trade_data('test.csv', period=2016, frequency='A', reporter='all', \n",
    "                    partner='all', product='total', tradeflow='exports')"
   ]
  },
  {
   "cell_type": "code",
   "execution_count": 10,
   "metadata": {
    "collapsed": false
   },
   "outputs": [
    {
     "name": "stdout",
     "output_type": "stream",
     "text": [
      "Error: empty dataset \n",
      " Message: None\n"
     ]
    }
   ],
   "source": [
    "download_trade_data('test.csv', period=2017, frequency='A', reporter='USA', \n",
    "                    partner='all', product='total', tradeflow='exports')"
   ]
  },
  {
   "cell_type": "code",
   "execution_count": 11,
   "metadata": {
    "collapsed": false
   },
   "outputs": [
    {
     "name": "stdout",
     "output_type": "stream",
     "text": [
      "226 records downloaded and saved as USA_exports_2016_human_readable.csv.\n"
     ]
    }
   ],
   "source": [
    "# The non-default mode with human-readable headings:\n",
    "download_trade_data('USA_exports_2016_human_readable.csv', human_readable=True,\n",
    "                    period=2016, frequency='A', reporter='USA', \n",
    "                    partner='all', product='total', tradeflow='exports')"
   ]
  },
  {
   "cell_type": "code",
   "execution_count": 12,
   "metadata": {
    "collapsed": false
   },
   "outputs": [
    {
     "ename": "ValueError",
     "evalue": "Only one of the parameters 'reporter', 'partner' and 'period' may use the special ALL value in a given API call.",
     "output_type": "error",
     "traceback": [
      "\u001b[1;31m---------------------------------------------------------------------------\u001b[0m",
      "\u001b[1;31mValueError\u001b[0m                                Traceback (most recent call last)",
      "\u001b[1;32m<ipython-input-12-92589e390468>\u001b[0m in \u001b[0;36m<module>\u001b[1;34m()\u001b[0m\n\u001b[0;32m      3\u001b[0m download_trade_data('test_error_human_readable.csv', human_readable=True,\n\u001b[0;32m      4\u001b[0m                     \u001b[0mperiod\u001b[0m\u001b[1;33m=\u001b[0m\u001b[1;36m2016\u001b[0m\u001b[1;33m,\u001b[0m \u001b[0mfrequency\u001b[0m\u001b[1;33m=\u001b[0m\u001b[1;34m'A'\u001b[0m\u001b[1;33m,\u001b[0m \u001b[0mreporter\u001b[0m\u001b[1;33m=\u001b[0m\u001b[1;34m'all'\u001b[0m\u001b[1;33m,\u001b[0m\u001b[1;33m\u001b[0m\u001b[0m\n\u001b[1;32m----> 5\u001b[1;33m                     partner='all', product='total', tradeflow='exports')\n\u001b[0m",
      "\u001b[1;32mD:\\google_drive\\Hiwi-Lux\\UN-Comtrade-Download\\UN_Comtrade.py\u001b[0m in \u001b[0;36mdownload_trade_data\u001b[1;34m(filename, human_readable, verbose, period, frequency, reporter, partner, product, tradeflow)\u001b[0m\n\u001b[0;32m     57\u001b[0m \u001b[1;33m\u001b[0m\u001b[0m\n\u001b[0;32m     58\u001b[0m     \u001b[1;32mif\u001b[0m \u001b[0msum\u001b[0m\u001b[1;33m(\u001b[0m\u001b[1;34m'all'\u001b[0m \u001b[1;32min\u001b[0m \u001b[0minpt\u001b[0m \u001b[1;32mfor\u001b[0m \u001b[0minpt\u001b[0m \u001b[1;32min\u001b[0m \u001b[1;33m[\u001b[0m\u001b[0mreporter\u001b[0m\u001b[1;33m,\u001b[0m \u001b[0mpartner\u001b[0m\u001b[1;33m,\u001b[0m \u001b[0mperiod\u001b[0m\u001b[1;33m]\u001b[0m\u001b[1;33m)\u001b[0m \u001b[1;33m>\u001b[0m \u001b[1;36m1\u001b[0m\u001b[1;33m:\u001b[0m\u001b[1;33m\u001b[0m\u001b[0m\n\u001b[1;32m---> 59\u001b[1;33m         \u001b[1;32mraise\u001b[0m \u001b[0mValueError\u001b[0m\u001b[1;33m(\u001b[0m\u001b[1;34m\"Only one of the parameters 'reporter', 'partner' and 'period' may use the special ALL value in a given API call.\"\u001b[0m\u001b[1;33m)\u001b[0m\u001b[1;33m\u001b[0m\u001b[0m\n\u001b[0m\u001b[0;32m     60\u001b[0m \u001b[1;33m\u001b[0m\u001b[0m\n\u001b[0;32m     61\u001b[0m     \u001b[1;32mif\u001b[0m \u001b[0many\u001b[0m\u001b[1;33m(\u001b[0m\u001b[0mlen\u001b[0m\u001b[1;33m(\u001b[0m\u001b[0minpt\u001b[0m\u001b[1;33m)\u001b[0m \u001b[1;33m>\u001b[0m \u001b[1;36m5\u001b[0m \u001b[1;32mfor\u001b[0m \u001b[0minpt\u001b[0m \u001b[1;32min\u001b[0m \u001b[1;33m[\u001b[0m\u001b[0mreporter\u001b[0m\u001b[1;33m,\u001b[0m \u001b[0mpartner\u001b[0m\u001b[1;33m,\u001b[0m \u001b[0mperiod\u001b[0m\u001b[1;33m]\u001b[0m\u001b[1;33m)\u001b[0m\u001b[1;33m:\u001b[0m\u001b[1;33m\u001b[0m\u001b[0m\n",
      "\u001b[1;31mValueError\u001b[0m: Only one of the parameters 'reporter', 'partner' and 'period' may use the special ALL value in a given API call."
     ]
    }
   ],
   "source": [
    "# This mode does handle errors badly: In this case, it writes the error message into the csv file. \n",
    "# (But for other error sources, even that is not the case.)\n",
    "download_trade_data('test_error_human_readable.csv', human_readable=True,\n",
    "                    period=2016, frequency='A', reporter='all', \n",
    "                    partner='all', product='total', tradeflow='exports')"
   ]
  },
  {
   "cell_type": "markdown",
   "metadata": {},
   "source": [
    "### Automizing several downloads"
   ]
  },
  {
   "cell_type": "code",
   "execution_count": 14,
   "metadata": {
    "collapsed": false
   },
   "outputs": [
    {
     "name": "stdout",
     "output_type": "stream",
     "text": [
      "78 records downloaded and saved as 4_exports_last_5_years.csv.\n",
      "\n",
      "531 records downloaded and saved as 8_exports_last_5_years.csv.\n",
      "\n",
      "500 records downloaded and saved as 12_exports_last_5_years.csv.\n",
      "\n",
      "343 records downloaded and saved as 20_exports_last_5_years.csv.\n",
      "\n",
      "153 records downloaded and saved as 24_exports_last_5_years.csv.\n",
      "\n",
      "Error: empty dataset \n",
      " Message: None\n",
      "\n",
      "267 records downloaded and saved as 28_exports_last_5_years.csv.\n",
      "\n",
      "738 records downloaded and saved as 32_exports_last_5_years.csv.\n",
      "\n",
      "470 records downloaded and saved as 51_exports_last_5_years.csv.\n",
      "\n",
      "100 records downloaded and saved as 533_exports_last_5_years.csv.\n",
      "\n"
     ]
    }
   ],
   "source": [
    "df = pd.read_csv('reporterAreas.csv', encoding='latin_1', index_col=0)\n",
    "\n",
    "for code in df.index[:10]:\n",
    "    download_trade_data('{}_exports_last_5_years.csv'.format(code), \n",
    "                        period='recent', frequency='A', reporter=code, \n",
    "                        partner='all', product='total', tradeflow='exports')\n",
    "    print('')\n",
    "    sleep(1) # 1 second rate limit"
   ]
  },
  {
   "cell_type": "markdown",
   "metadata": {},
   "source": [
    "### Usage limits\n",
    "(copied from the API Documentation)\n",
    "\n",
    "Rate limit (guest): 1 request every second (per IP address or authenticated user).\n",
    "\n",
    "Usage limit (guest): 100 requests per hour (per IP address or authenticated user).\n",
    "\n",
    "Parameter combination limit: ps, r and p are limited to 5 codes each. Only one of the above codes may use the special ALL value in a given API call.\n",
    "Classification codes (cc) are limited to 20 items. ALL is always a valid classification code.\n",
    "\n",
    "If you hit a usage limit a 409 (conflict) error is returned along with a message specifying why the request was blocked and when requests may resume."
   ]
  }
 ],
 "metadata": {
  "anaconda-cloud": {},
  "kernelspec": {
   "display_name": "Python [Root]",
   "language": "python",
   "name": "Python [Root]"
  },
  "language_info": {
   "codemirror_mode": {
    "name": "ipython",
    "version": 3
   },
   "file_extension": ".py",
   "mimetype": "text/x-python",
   "name": "python",
   "nbconvert_exporter": "python",
   "pygments_lexer": "ipython3",
   "version": "3.5.2"
  }
 },
 "nbformat": 4,
 "nbformat_minor": 0
}
