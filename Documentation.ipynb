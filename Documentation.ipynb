{
 "cells": [
  {
   "cell_type": "markdown",
   "metadata": {},
   "source": [
    "# Documentation : ```download_trade_data```"
   ]
  },
  {
   "cell_type": "code",
   "execution_count": 1,
   "metadata": {
    "collapsed": true
   },
   "outputs": [],
   "source": [
    "import pandas as pd"
   ]
  },
  {
   "cell_type": "code",
   "execution_count": 2,
   "metadata": {
    "collapsed": false
   },
   "outputs": [],
   "source": [
    "from UN_Comtrade import download_trade_data"
   ]
  },
  {
   "cell_type": "code",
   "execution_count": null,
   "metadata": {
    "collapsed": true
   },
   "outputs": [],
   "source": [
    "# help\n",
    "download_trade_data?"
   ]
  },
  {
   "cell_type": "code",
   "execution_count": 3,
   "metadata": {
    "collapsed": false
   },
   "outputs": [],
   "source": [
    "import os\n",
    "os.chdir('data')"
   ]
  },
  {
   "cell_type": "markdown",
   "metadata": {},
   "source": [
    "### New in update 2 (May 1, 2017)"
   ]
  },
  {
   "cell_type": "markdown",
   "metadata": {},
   "source": [
    "#### Helper functions `search_product_code` and `children_product_codes`"
   ]
  },
  {
   "cell_type": "code",
   "execution_count": 4,
   "metadata": {
    "collapsed": false
   },
   "outputs": [],
   "source": [
    "from UN_Comtrade import search_product_code, product_codes_with_parent"
   ]
  },
  {
   "cell_type": "code",
   "execution_count": 9,
   "metadata": {
    "collapsed": false
   },
   "outputs": [],
   "source": [
    "d = search_product_code('wood', case=False, n_digits=2)"
   ]
  },
  {
   "cell_type": "code",
   "execution_count": 6,
   "metadata": {
    "collapsed": false
   },
   "outputs": [
    {
     "name": "stdout",
     "output_type": "stream",
     "text": [
      "47     - Pulp of wood, fibrous cellulosic material, waste etc\n",
      "44     - Wood and articles of wood, wood charcoal\n"
     ]
    }
   ],
   "source": [
    "for code, descr in d.items():\n",
    "    print('{:6} - {}'.format(code, descr))"
   ]
  },
  {
   "cell_type": "code",
   "execution_count": 8,
   "metadata": {
    "collapsed": false
   },
   "outputs": [
    {
     "data": {
      "text/plain": [
       "{'4401': 'Fuel wood, wood in chips or particles, wood waste',\n",
       " '4402': 'Wood charcoal (including shell or nut charcoal)',\n",
       " '4403': 'Wood in the rough or roughly squared',\n",
       " '4404': 'Hoopwood, split poles, pile, pickets and stakes',\n",
       " '4405': 'Wood wool, wood flour',\n",
       " '4406': 'Railway or tramway sleepers (cross-ties) of wood',\n",
       " '4407': 'Wood sawn, chipped lengthwise, sliced or peeled',\n",
       " '4408': 'Veneers and sheets for plywood etc <6mm thick',\n",
       " '4409': 'Wood continuously shaped along any edges',\n",
       " '4410': 'Particle board, similar board, wood, ligneous materia',\n",
       " '4411': 'Fibreboard of wood or other ligneous materials',\n",
       " '4412': 'Plywood, veneered panels and similar laminated wood',\n",
       " '4413': 'Densified wood, in blocks, plates, strips or profile',\n",
       " '4414': 'Wooden frames for paintings, photographs, mirrors etc',\n",
       " '4415': 'Wooden cases, boxes, crates, drums, pallets, etc',\n",
       " '4416': 'Wooden casks, barrels, vats, tubs, etc',\n",
       " '4417': 'Tools, broom handles, bodies, etc, of wood',\n",
       " '4418': 'Builders joinery and carpentry, of wood',\n",
       " '4419': 'Tableware and kitchenware of wood',\n",
       " '4420': 'Ornaments of wood, jewel, cutlery caskets and cases',\n",
       " '4421': 'Articles of wood, nes'}"
      ]
     },
     "execution_count": 8,
     "metadata": {},
     "output_type": "execute_result"
    }
   ],
   "source": [
    "product_codes_with_parent('44')"
   ]
  },
  {
   "cell_type": "markdown",
   "metadata": {},
   "source": [
    "#### ```download_trade_data``` calls API several times if we are interested in more than 20 product calls ( > API limit)"
   ]
  },
  {
   "cell_type": "code",
   "execution_count": 43,
   "metadata": {
    "collapsed": false
   },
   "outputs": [
    {
     "data": {
      "text/plain": [
       "115"
      ]
     },
     "execution_count": 43,
     "metadata": {},
     "output_type": "execute_result"
    }
   ],
   "source": [
    "# all 6-digit codes in category '44':\n",
    "codes = []\n",
    "for key in product_codes_with_parent('44').keys():\n",
    "    new_codes = list(product_codes_with_parent(key).keys())\n",
    "    codes = codes + new_codes\n",
    "len(codes)"
   ]
  },
  {
   "cell_type": "code",
   "execution_count": 32,
   "metadata": {
    "collapsed": false
   },
   "outputs": [
    {
     "name": "stdout",
     "output_type": "stream",
     "text": [
      "https://comtrade.un.org/api/get?cc=441600,441300,440410,440420,441510,441520,440290,440200,440210,440921,440920,440910,440929,441400,441292,441212,441293,441221,441222,441219&max=50000&r=276&ps=2010&head=M&fmt=json&p=all&px=HS&rg=2&freq=A&type=C\n",
      "https://comtrade.un.org/api/get?cc=441229,441223,441211,441291,441232,441210,441214,441231,441299,441213,441294,441239,441810,441872,441871,441830,441860,441879,441820,441890&max=50000&r=276&ps=2010&head=M&fmt=json&p=all&px=HS&rg=2&freq=A&type=C\n",
      "https://comtrade.un.org/api/get?cc=441840,441850,440723,440791,440710,440792,440721,440794,440799,440722,440793,440726,440724,440728,440725,440727,440795,440729,440610,440690&max=50000&r=276&ps=2010&head=M&fmt=json&p=all&px=HS&rg=2&freq=A&type=C\n",
      "https://comtrade.un.org/api/get?cc=441900,441700,442090,442010,440341,440333,440320,440331,440349,440335,440310,440392,440399,440332,440391,440334,440810,440831,440839,440820&max=50000&r=276&ps=2010&head=M&fmt=json&p=all&px=HS&rg=2&freq=A&type=C\n",
      "https://comtrade.un.org/api/get?cc=440890,441011,441010,441090,441039,441012,441032,441033,441019,441029,441031,441021,441112,441121,441191,441111,441119,441139,441129,441194&max=50000&r=276&ps=2010&head=M&fmt=json&p=all&px=HS&rg=2&freq=A&type=C\n",
      "https://comtrade.un.org/api/get?cc=441113,441193,441192,441131,441114,441199,442110,442190,440130,440122,440131,440139,440110,440121,440500&max=50000&r=276&ps=2010&head=M&fmt=json&p=all&px=HS&rg=2&freq=A&type=C\n",
      "3773 records downloaded and saved as Germany_exports_2010_wood.csv.\n"
     ]
    }
   ],
   "source": [
    "download_trade_data('Germany_exports_2010_wood.csv', period='2010', frequency='A', reporter='Germany', \n",
    "                    partner='all', product=codes, tradeflow='exports')"
   ]
  },
  {
   "cell_type": "markdown",
   "metadata": {},
   "source": [
    "### New in update 1 (April 26, 2017)"
   ]
  },
  {
   "cell_type": "code",
   "execution_count": 44,
   "metadata": {
    "collapsed": false
   },
   "outputs": [
    {
     "name": "stdout",
     "output_type": "stream",
     "text": [
      "https://comtrade.un.org/api/get?cc=total&max=50000&r=276&ps=2010,2011,2012,2013,2014&head=M&fmt=json&p=all&px=HS&rg=2&freq=A&type=C\n",
      "1150 records downloaded and saved as Germany_exports_2010-2014.csv.\n"
     ]
    }
   ],
   "source": [
    "# input for period: 'YYYY-YYYY'/ 'YYYYMM-YYYYMM' possible (depending of frequency)\n",
    "download_trade_data('Germany_exports_2010-2014.csv', period='2010-2014', frequency='A', reporter='Germany', \n",
    "                    partner='all', product='total', tradeflow='exports')"
   ]
  },
  {
   "cell_type": "code",
   "execution_count": 45,
   "metadata": {
    "collapsed": false
   },
   "outputs": [
    {
     "name": "stdout",
     "output_type": "stream",
     "text": [
      "https://comtrade.un.org/api/get?cc=total&max=50000&r=276,842,251,124,826&ps=1995,1996,1997,1998,1999&head=M&fmt=json&p=all&px=HS&rg=2&freq=A&type=C\n",
      "https://comtrade.un.org/api/get?cc=total&max=50000&r=276,842,251,124,826&ps=2000,2001,2002,2003,2004&head=M&fmt=json&p=all&px=HS&rg=2&freq=A&type=C\n",
      "https://comtrade.un.org/api/get?cc=total&max=50000&r=156,704&ps=1995,1996,1997,1998,1999&head=M&fmt=json&p=all&px=HS&rg=2&freq=A&type=C\n",
      "https://comtrade.un.org/api/get?cc=total&max=50000&r=156,704&ps=2000,2001,2002,2003,2004&head=M&fmt=json&p=all&px=HS&rg=2&freq=A&type=C\n",
      "13893 records downloaded and saved as some_countries_exports_1995-2004.csv.\n"
     ]
    }
   ],
   "source": [
    "# here both for period and reporter we have more than 5 parameters (more than API usage limit)\n",
    "# however, download_trade_data does several API calls and saves all results in one big csv file\n",
    "download_trade_data('some_countries_exports_1995-2004.csv', period='1995-2004', frequency='A', \n",
    "                    reporter=['Germany', 'USA', 'France', 'Canada', 'United Kingdom', 'China', 'Viet Nam'], \n",
    "                    partner='all', product='total', tradeflow='exports')"
   ]
  },
  {
   "cell_type": "code",
   "execution_count": 46,
   "metadata": {
    "collapsed": false
   },
   "outputs": [
    {
     "name": "stdout",
     "output_type": "stream",
     "text": [
      "https://comtrade.un.org/api/get?cc=total&max=50000&r=276&ps=2007,2010,2011,2012,2013&head=M&fmt=json&p=all&px=HS&rg=2&freq=A&type=C\n",
      "1151 records downloaded and saved as Germany_exports_2007_and_2010-2013.csv.\n"
     ]
    }
   ],
   "source": [
    "# even inputs like period=['YYYY', 'YYYY-YYYY'] are allowed\n",
    "download_trade_data('Germany_exports_2007_and_2010-2013.csv', period=[2007, '2010-2013'], frequency='A', reporter='Germany', \n",
    "                    partner='all', product='total', tradeflow='exports')"
   ]
  },
  {
   "cell_type": "markdown",
   "metadata": {},
   "source": [
    "Remember that instead of using inputs like ``period='1995-2015'`` you can still use ``'all'`` as input! Less API calls might be necessary and you can still select the time period 1995 - 2015 after downloading the data."
   ]
  },
  {
   "cell_type": "markdown",
   "metadata": {},
   "source": [
    "If you do not want the function to print any information, choose the option ``verbose=False``."
   ]
  },
  {
   "cell_type": "code",
   "execution_count": 47,
   "metadata": {
    "collapsed": false
   },
   "outputs": [
    {
     "ename": "ValueError",
     "evalue": "Only one of the parameters 'reporter', 'partner' and 'period' may use the special ALL value in a given API call.",
     "output_type": "error",
     "traceback": [
      "\u001b[1;31m---------------------------------------------------------------------------\u001b[0m",
      "\u001b[1;31mValueError\u001b[0m                                Traceback (most recent call last)",
      "\u001b[1;32m<ipython-input-47-a004b2ff7b0b>\u001b[0m in \u001b[0;36m<module>\u001b[1;34m()\u001b[0m\n\u001b[0;32m      1\u001b[0m \u001b[1;31m# function raises error when we expect that the API would return an error message\u001b[0m\u001b[1;33m\u001b[0m\u001b[1;33m\u001b[0m\u001b[0m\n\u001b[0;32m      2\u001b[0m download_trade_data('test.csv', period=2016, frequency='A', reporter='all', \n\u001b[1;32m----> 3\u001b[1;33m                     partner='all', product='total', tradeflow='exports')\n\u001b[0m",
      "\u001b[1;32mD:\\google_drive\\Hiwi-Lux\\UN-Comtrade-Download\\UN_Comtrade.py\u001b[0m in \u001b[0;36mdownload_trade_data\u001b[1;34m(filename, human_readable, verbose, period, frequency, reporter, partner, product, tradeflow)\u001b[0m\n\u001b[0;32m     60\u001b[0m \u001b[1;33m\u001b[0m\u001b[0m\n\u001b[0;32m     61\u001b[0m     \u001b[1;32mif\u001b[0m \u001b[0msum\u001b[0m\u001b[1;33m(\u001b[0m\u001b[1;34m'all'\u001b[0m \u001b[1;32min\u001b[0m \u001b[0minpt\u001b[0m \u001b[1;32mfor\u001b[0m \u001b[0minpt\u001b[0m \u001b[1;32min\u001b[0m \u001b[1;33m[\u001b[0m\u001b[0mreporter\u001b[0m\u001b[1;33m,\u001b[0m \u001b[0mpartner\u001b[0m\u001b[1;33m,\u001b[0m \u001b[0mperiod\u001b[0m\u001b[1;33m]\u001b[0m\u001b[1;33m)\u001b[0m \u001b[1;33m>\u001b[0m \u001b[1;36m1\u001b[0m\u001b[1;33m:\u001b[0m\u001b[1;33m\u001b[0m\u001b[0m\n\u001b[1;32m---> 62\u001b[1;33m         \u001b[1;32mraise\u001b[0m \u001b[0mValueError\u001b[0m\u001b[1;33m(\u001b[0m\u001b[1;34m\"Only one of the parameters 'reporter', 'partner' and 'period' may use the special ALL value in a given API call.\"\u001b[0m\u001b[1;33m)\u001b[0m\u001b[1;33m\u001b[0m\u001b[0m\n\u001b[0m\u001b[0;32m     63\u001b[0m \u001b[1;33m\u001b[0m\u001b[0m\n\u001b[0;32m     64\u001b[0m     \u001b[1;32mif\u001b[0m \u001b[0many\u001b[0m\u001b[1;33m(\u001b[0m\u001b[0mlen\u001b[0m\u001b[1;33m(\u001b[0m\u001b[0minpt\u001b[0m\u001b[1;33m)\u001b[0m \u001b[1;33m>\u001b[0m \u001b[1;36m5\u001b[0m \u001b[1;32mfor\u001b[0m \u001b[0minpt\u001b[0m \u001b[1;32min\u001b[0m \u001b[1;33m[\u001b[0m\u001b[0mreporter\u001b[0m\u001b[1;33m,\u001b[0m \u001b[0mpartner\u001b[0m\u001b[1;33m,\u001b[0m \u001b[0mperiod\u001b[0m\u001b[1;33m]\u001b[0m\u001b[1;33m)\u001b[0m \u001b[1;32mand\u001b[0m \u001b[0mhuman_readable\u001b[0m\u001b[1;33m:\u001b[0m\u001b[1;33m\u001b[0m\u001b[0m\n",
      "\u001b[1;31mValueError\u001b[0m: Only one of the parameters 'reporter', 'partner' and 'period' may use the special ALL value in a given API call."
     ]
    }
   ],
   "source": [
    "# function raises error when we expect that the API would return an error message\n",
    "download_trade_data('test.csv', period=2016, frequency='A', reporter='all', \n",
    "                    partner='all', product='total', tradeflow='exports')"
   ]
  },
  {
   "cell_type": "markdown",
   "metadata": {},
   "source": [
    "### Some examples"
   ]
  },
  {
   "cell_type": "code",
   "execution_count": 48,
   "metadata": {
    "collapsed": false
   },
   "outputs": [
    {
     "name": "stdout",
     "output_type": "stream",
     "text": [
      "https://comtrade.un.org/api/get?cc=total&max=50000&r=842&ps=2016&head=M&fmt=json&p=all&px=HS&rg=2&freq=A&type=C\n",
      "226 records downloaded and saved as USA_exports_2016.csv.\n"
     ]
    }
   ],
   "source": [
    "# simple use case\n",
    "download_trade_data('USA_exports_2016.csv', period=2016, frequency='A', reporter='USA', \n",
    "                    partner='all', product='total', tradeflow='exports')"
   ]
  },
  {
   "cell_type": "code",
   "execution_count": 49,
   "metadata": {
    "collapsed": false
   },
   "outputs": [
    {
     "name": "stdout",
     "output_type": "stream",
     "text": [
      "https://comtrade.un.org/api/get?cc=total&max=50000&r=842&ps=2016&head=M&fmt=json&p=all&px=HS&rg=2&freq=A&type=C\n",
      "226 records downloaded and saved as USA_exports_2016.csv.\n"
     ]
    }
   ],
   "source": [
    "# equivalent inputs, closer to the API parameter inputs\n",
    "download_trade_data('USA_exports_2016.csv', period=2016, frequency='A', reporter=842, \n",
    "                    partner='all', product='total', tradeflow=2)"
   ]
  },
  {
   "cell_type": "code",
   "execution_count": 50,
   "metadata": {
    "collapsed": false
   },
   "outputs": [
    {
     "name": "stdout",
     "output_type": "stream",
     "text": [
      "There is no country in the json-file with the exact name \"Bolivia\". The following countries contain the word \"Bolivia\". If you think that one of the following countries is the one that you are looking for, press \"y\".\n",
      "68 Bolivia (Plurinational State of) [y?] y\n",
      "https://comtrade.un.org/api/get?cc=total&max=50000&r=68&ps=2015&head=M&fmt=json&p=all&px=HS&rg=2&freq=A&type=C\n",
      "91 records downloaded and saved as Bolivia_exports_2015.csv.\n"
     ]
    }
   ],
   "source": [
    "# If the country name does not exactly match with an entry in the file with offical names, \n",
    "# the function shows you similar country names:\n",
    "download_trade_data('Bolivia_exports_2015.csv', period=2015, frequency='A', reporter='Bolivia', \n",
    "                    partner='all', product='total', tradeflow='exports')"
   ]
  },
  {
   "cell_type": "code",
   "execution_count": 51,
   "metadata": {
    "collapsed": false
   },
   "outputs": [
    {
     "name": "stdout",
     "output_type": "stream",
     "text": [
      "https://comtrade.un.org/api/get?cc=total&max=50000&r=276,251,381,724,826&ps=201501,201502,201503&head=M&fmt=json&p=all&px=HS&rg=2&freq=M&type=C\n",
      "3242 records downloaded and saved as europe_exports_2015_1st_quartal.csv.\n"
     ]
    }
   ],
   "source": [
    "# Instead of single parameter values, you might use lists as input for period, reporter, partner, product and tradeflow, e.g.:\n",
    "download_trade_data('europe_exports_2015_1st_quartal.csv', period=['201501', '201502', '201503'], frequency='M', \n",
    "                    reporter=['Germany', 'France', 'Italy', 'Spain', 'United Kingdom'], \n",
    "                    partner='all', product='total', tradeflow='exports')"
   ]
  },
  {
   "cell_type": "code",
   "execution_count": 52,
   "metadata": {
    "collapsed": false
   },
   "outputs": [
    {
     "name": "stdout",
     "output_type": "stream",
     "text": [
      "https://comtrade.un.org/api/get?cc=total&max=50000&r=842&ps=2016&head=H&fmt=csv&p=all&px=HS&rg=2&freq=A&type=C\n",
      "226 records downloaded and saved as USA_exports_2016_human_readable.csv.\n"
     ]
    }
   ],
   "source": [
    "# The non-default mode with human-readable headings:\n",
    "download_trade_data('USA_exports_2016_human_readable.csv', human_readable=True,\n",
    "                    period=2016, frequency='A', reporter='USA', \n",
    "                    partner='all', product='total', tradeflow='exports')"
   ]
  },
  {
   "cell_type": "code",
   "execution_count": 53,
   "metadata": {
    "collapsed": false
   },
   "outputs": [
    {
     "name": "stdout",
     "output_type": "stream",
     "text": [
      "Using the option human_readable=True is not recommended in this case because several API calls are necessary.\n",
      "When using the human_readable=True option, messages from the API cannot be received!\n",
      "Press y if you want to continue anyways. no\n"
     ]
    }
   ],
   "source": [
    "# The human_readable=True mode is not recommended for several API calls:\n",
    "download_trade_data('USA_exports_2016_human_readable_2.csv', human_readable=True,\n",
    "                    period='201601-201612', frequency='M', reporter='USA', \n",
    "                    partner='all', product='total', tradeflow='exports')"
   ]
  },
  {
   "cell_type": "markdown",
   "metadata": {},
   "source": [
    "### Automizing downloads of several files"
   ]
  },
  {
   "cell_type": "code",
   "execution_count": 54,
   "metadata": {
    "collapsed": true
   },
   "outputs": [],
   "source": [
    "from time import sleep"
   ]
  },
  {
   "cell_type": "code",
   "execution_count": 55,
   "metadata": {
    "collapsed": false
   },
   "outputs": [
    {
     "name": "stdout",
     "output_type": "stream",
     "text": [
      "https://comtrade.un.org/api/get?cc=total&max=50000&r=4&ps=recent&head=M&fmt=json&p=all&px=HS&rg=2&freq=A&type=C\n",
      "78 records downloaded and saved as country_no_4_exports_last_5_years.csv.\n",
      "\n",
      "https://comtrade.un.org/api/get?cc=total&max=50000&r=8&ps=recent&head=M&fmt=json&p=all&px=HS&rg=2&freq=A&type=C\n",
      "531 records downloaded and saved as country_no_8_exports_last_5_years.csv.\n",
      "\n",
      "https://comtrade.un.org/api/get?cc=total&max=50000&r=12&ps=recent&head=M&fmt=json&p=all&px=HS&rg=2&freq=A&type=C\n",
      "500 records downloaded and saved as country_no_12_exports_last_5_years.csv.\n",
      "\n",
      "https://comtrade.un.org/api/get?cc=total&max=50000&r=20&ps=recent&head=M&fmt=json&p=all&px=HS&rg=2&freq=A&type=C\n",
      "343 records downloaded and saved as country_no_20_exports_last_5_years.csv.\n",
      "\n",
      "https://comtrade.un.org/api/get?cc=total&max=50000&r=24&ps=recent&head=M&fmt=json&p=all&px=HS&rg=2&freq=A&type=C\n",
      "153 records downloaded and saved as country_no_24_exports_last_5_years.csv.\n",
      "\n",
      "https://comtrade.un.org/api/get?cc=total&max=50000&r=660&ps=recent&head=M&fmt=json&p=all&px=HS&rg=2&freq=A&type=C\n",
      "Error: empty dataset \n",
      " Message: None\n",
      "\n",
      "https://comtrade.un.org/api/get?cc=total&max=50000&r=28&ps=recent&head=M&fmt=json&p=all&px=HS&rg=2&freq=A&type=C\n",
      "267 records downloaded and saved as country_no_28_exports_last_5_years.csv.\n",
      "\n",
      "https://comtrade.un.org/api/get?cc=total&max=50000&r=32&ps=recent&head=M&fmt=json&p=all&px=HS&rg=2&freq=A&type=C\n",
      "738 records downloaded and saved as country_no_32_exports_last_5_years.csv.\n",
      "\n",
      "https://comtrade.un.org/api/get?cc=total&max=50000&r=51&ps=recent&head=M&fmt=json&p=all&px=HS&rg=2&freq=A&type=C\n",
      "470 records downloaded and saved as country_no_51_exports_last_5_years.csv.\n",
      "\n",
      "https://comtrade.un.org/api/get?cc=total&max=50000&r=533&ps=recent&head=M&fmt=json&p=all&px=HS&rg=2&freq=A&type=C\n",
      "100 records downloaded and saved as country_no_533_exports_last_5_years.csv.\n",
      "\n"
     ]
    }
   ],
   "source": [
    "df = pd.read_csv('reporterAreas.csv', encoding='latin_1', index_col=0)\n",
    "\n",
    "for code in df.index[:10]:\n",
    "    download_trade_data('country_no_{}_exports_last_5_years.csv'.format(code), \n",
    "                        period='recent', frequency='A', reporter=code, \n",
    "                        partner='all', product='total', tradeflow='exports')\n",
    "    print('')\n",
    "    sleep(1) # 1 second rate limit"
   ]
  }
 ],
 "metadata": {
  "anaconda-cloud": {},
  "kernelspec": {
   "display_name": "Python [Root]",
   "language": "python",
   "name": "Python [Root]"
  },
  "language_info": {
   "codemirror_mode": {
    "name": "ipython",
    "version": 3
   },
   "file_extension": ".py",
   "mimetype": "text/x-python",
   "name": "python",
   "nbconvert_exporter": "python",
   "pygments_lexer": "ipython3",
   "version": "3.5.2"
  }
 },
 "nbformat": 4,
 "nbformat_minor": 0
}
